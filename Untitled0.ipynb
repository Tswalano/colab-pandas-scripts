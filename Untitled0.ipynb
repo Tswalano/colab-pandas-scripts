{
  "nbformat": 4,
  "nbformat_minor": 0,
  "metadata": {
    "colab": {
      "provenance": [],
      "authorship_tag": "ABX9TyPPC3ONFQoCORDWO4U4+XSQ",
      "include_colab_link": true
    },
    "kernelspec": {
      "name": "python3",
      "display_name": "Python 3"
    },
    "language_info": {
      "name": "python"
    }
  },
  "cells": [
    {
      "cell_type": "markdown",
      "metadata": {
        "id": "view-in-github",
        "colab_type": "text"
      },
      "source": [
        "<a href=\"https://colab.research.google.com/github/Tswalano/colab-pandas-scripts/blob/main/Untitled0.ipynb\" target=\"_parent\"><img src=\"https://colab.research.google.com/assets/colab-badge.svg\" alt=\"Open In Colab\"/></a>"
      ]
    },
    {
      "cell_type": "code",
      "execution_count": null,
      "metadata": {
        "id": "677A37q-SruJ"
      },
      "outputs": [],
      "source": [
        "import pandas as pd\n",
        "\n",
        "# Load the Excel file into a DataFrame\n",
        "df_excel = pd.read_excel(\"/content/sample_data/Sample_sheet1.xlsx\", sheet_name=\"P1 Purchase\", usecols=\"A:G\")\n",
        "\n",
        "# df = df_excel[df_excel[\"team\"].str.contains(\"Team 1\") == False]\n",
        "\n",
        "print(df_excel.head(55))\n",
        "print(\"\\n**********************\\n\\n\")\n",
        "\n",
        "clean_df = df_excel.dropna()\n",
        "print(clean_df.head(55))\n",
        "\n",
        "\n"
      ]
    }
  ]
}